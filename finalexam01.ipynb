{
 "cells": [
  {
   "cell_type": "code",
   "execution_count": 6,
   "metadata": {},
   "outputs": [
    {
     "name": "stdout",
     "output_type": "stream",
     "text": [
      "i\t\t\tm(i)\n",
      "1\t\t\t4.0000\n",
      "101\t\t\t3.1515\n",
      "201\t\t\t3.1466\n",
      "301\t\t\t3.1449\n",
      "401\t\t\t3.1441\n",
      "501\t\t\t3.1436\n",
      "601\t\t\t3.1433\n",
      "701\t\t\t3.1430\n",
      "801\t\t\t3.1428\n",
      "901\t\t\t3.1427\n"
     ]
    }
   ],
   "source": [
    "def m(i):\n",
    "    p = 0\n",
    "    for a in range(i):\n",
    "        p = p + 4*(((-1)**(a+2))/(2*(a+1)-1))\n",
    "    return p\n",
    "\n",
    "print('i\\t\\t\\tm(i)')\n",
    "for k in range(10):\n",
    "    s = k*100 + 1\n",
    "    str = \"{0:d}\\t\\t\\t{1:.4f}\".format(s,m(s))\n",
    "    print(str)"
   ]
  },
  {
   "cell_type": "code",
   "execution_count": null,
   "metadata": {},
   "outputs": [],
   "source": []
  },
  {
   "cell_type": "code",
   "execution_count": null,
   "metadata": {},
   "outputs": [],
   "source": []
  }
 ],
 "metadata": {
  "kernelspec": {
   "display_name": "Python 3",
   "language": "python",
   "name": "python3"
  },
  "language_info": {
   "codemirror_mode": {
    "name": "ipython",
    "version": 3
   },
   "file_extension": ".py",
   "mimetype": "text/x-python",
   "name": "python",
   "nbconvert_exporter": "python",
   "pygments_lexer": "ipython3",
   "version": "3.8.2"
  }
 },
 "nbformat": 4,
 "nbformat_minor": 4
}
