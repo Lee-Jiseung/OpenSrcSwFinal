{
 "cells": [
  {
   "cell_type": "code",
   "execution_count": 8,
   "metadata": {},
   "outputs": [
    {
     "name": "stdout",
     "output_type": "stream",
     "text": [
      "1.4142135623730951\n",
      "3 , 3\n"
     ]
    }
   ],
   "source": [
    "class Point():\n",
    "    \n",
    "    def __init__(self,a,b):\n",
    "        self.x = a\n",
    "        self.y = b\n",
    "    def getx(self):\n",
    "        return self.x\n",
    "    def gety(self):\n",
    "        return self.y\n",
    "    def distance(self,other):\n",
    "        d = (((self.x - other.getx())**2) + ((self.y - other.gety())**2))**(1/2)\n",
    "        return d\n",
    "    def __add__(self, other):\n",
    "        self.x = self.x + other.getx()\n",
    "        self.y = self.y + other.gety()\n",
    "        \n",
    "        return self\n",
    "    \n",
    "p1 = Point(1,1)\n",
    "p2 = Point(2,2)\n",
    "\n",
    "print(p1.distance(p2))\n",
    "\n",
    "p3 = p1+p2\n",
    "print(p3.getx(),',',p3.gety())"
   ]
  },
  {
   "cell_type": "code",
   "execution_count": null,
   "metadata": {},
   "outputs": [],
   "source": []
  }
 ],
 "metadata": {
  "kernelspec": {
   "display_name": "Python 3",
   "language": "python",
   "name": "python3"
  },
  "language_info": {
   "codemirror_mode": {
    "name": "ipython",
    "version": 3
   },
   "file_extension": ".py",
   "mimetype": "text/x-python",
   "name": "python",
   "nbconvert_exporter": "python",
   "pygments_lexer": "ipython3",
   "version": "3.8.2"
  }
 },
 "nbformat": 4,
 "nbformat_minor": 4
}
